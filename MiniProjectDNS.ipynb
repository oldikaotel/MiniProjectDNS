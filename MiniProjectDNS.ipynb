{
  "nbformat": 4,
  "nbformat_minor": 0,
  "metadata": {
    "colab": {
      "provenance": []
    },
    "kernelspec": {
      "name": "python3",
      "display_name": "Python 3"
    },
    "language_info": {
      "name": "python"
    }
  },
  "cells": [
    {
      "cell_type": "code",
      "execution_count": null,
      "metadata": {
        "colab": {
          "base_uri": "https://localhost:8080/"
        },
        "id": "Ey1VjfYdpxSa",
        "outputId": "31403b1a-3d32-498b-d221-2c6db7a708c5"
      },
      "outputs": [
        {
          "output_type": "stream",
          "name": "stdout",
          "text": [
            "Requirement already satisfied: requests in /usr/local/lib/python3.10/dist-packages (2.32.3)\n",
            "Requirement already satisfied: charset-normalizer<4,>=2 in /usr/local/lib/python3.10/dist-packages (from requests) (3.4.0)\n",
            "Requirement already satisfied: idna<4,>=2.5 in /usr/local/lib/python3.10/dist-packages (from requests) (3.10)\n",
            "Requirement already satisfied: urllib3<3,>=1.21.1 in /usr/local/lib/python3.10/dist-packages (from requests) (2.2.3)\n",
            "Requirement already satisfied: certifi>=2017.4.17 in /usr/local/lib/python3.10/dist-packages (from requests) (2024.8.30)\n"
          ]
        }
      ],
      "source": [
        "pip install requests"
      ]
    },
    {
      "cell_type": "code",
      "source": [
        "pip install boto3"
      ],
      "metadata": {
        "colab": {
          "base_uri": "https://localhost:8080/"
        },
        "id": "HrlLOoX3te5e",
        "outputId": "9c0ae71b-352b-4a73-e153-eba8924b62dd"
      },
      "execution_count": null,
      "outputs": [
        {
          "output_type": "stream",
          "name": "stdout",
          "text": [
            "Collecting boto3\n",
            "  Downloading boto3-1.35.71-py3-none-any.whl.metadata (6.7 kB)\n",
            "Collecting botocore<1.36.0,>=1.35.71 (from boto3)\n",
            "  Downloading botocore-1.35.71-py3-none-any.whl.metadata (5.7 kB)\n",
            "Collecting jmespath<2.0.0,>=0.7.1 (from boto3)\n",
            "  Downloading jmespath-1.0.1-py3-none-any.whl.metadata (7.6 kB)\n",
            "Collecting s3transfer<0.11.0,>=0.10.0 (from boto3)\n",
            "  Downloading s3transfer-0.10.4-py3-none-any.whl.metadata (1.7 kB)\n",
            "Requirement already satisfied: python-dateutil<3.0.0,>=2.1 in /usr/local/lib/python3.10/dist-packages (from botocore<1.36.0,>=1.35.71->boto3) (2.8.2)\n",
            "Requirement already satisfied: urllib3!=2.2.0,<3,>=1.25.4 in /usr/local/lib/python3.10/dist-packages (from botocore<1.36.0,>=1.35.71->boto3) (2.2.3)\n",
            "Requirement already satisfied: six>=1.5 in /usr/local/lib/python3.10/dist-packages (from python-dateutil<3.0.0,>=2.1->botocore<1.36.0,>=1.35.71->boto3) (1.16.0)\n",
            "Downloading boto3-1.35.71-py3-none-any.whl (139 kB)\n",
            "\u001b[2K   \u001b[90m━━━━━━━━━━━━━━━━━━━━━━━━━━━━━━━━━━━━━━━━\u001b[0m \u001b[32m139.2/139.2 kB\u001b[0m \u001b[31m5.0 MB/s\u001b[0m eta \u001b[36m0:00:00\u001b[0m\n",
            "\u001b[?25hDownloading botocore-1.35.71-py3-none-any.whl (13.0 MB)\n",
            "\u001b[2K   \u001b[90m━━━━━━━━━━━━━━━━━━━━━━━━━━━━━━━━━━━━━━━━\u001b[0m \u001b[32m13.0/13.0 MB\u001b[0m \u001b[31m61.0 MB/s\u001b[0m eta \u001b[36m0:00:00\u001b[0m\n",
            "\u001b[?25hDownloading jmespath-1.0.1-py3-none-any.whl (20 kB)\n",
            "Downloading s3transfer-0.10.4-py3-none-any.whl (83 kB)\n",
            "\u001b[2K   \u001b[90m━━━━━━━━━━━━━━━━━━━━━━━━━━━━━━━━━━━━━━━━\u001b[0m \u001b[32m83.2/83.2 kB\u001b[0m \u001b[31m7.4 MB/s\u001b[0m eta \u001b[36m0:00:00\u001b[0m\n",
            "\u001b[?25hInstalling collected packages: jmespath, botocore, s3transfer, boto3\n",
            "Successfully installed boto3-1.35.71 botocore-1.35.71 jmespath-1.0.1 s3transfer-0.10.4\n"
          ]
        }
      ]
    },
    {
      "cell_type": "code",
      "source": [
        "pip install docutils"
      ],
      "metadata": {
        "colab": {
          "base_uri": "https://localhost:8080/"
        },
        "id": "h7JsDUD0uI-g",
        "outputId": "bbb1f114-a88a-4a39-dcda-a589ea067104"
      },
      "execution_count": null,
      "outputs": [
        {
          "output_type": "stream",
          "name": "stdout",
          "text": [
            "Requirement already satisfied: docutils in /usr/local/lib/python3.10/dist-packages (0.21.2)\n"
          ]
        }
      ]
    },
    {
      "cell_type": "code",
      "source": [
        "pip install awscli"
      ],
      "metadata": {
        "colab": {
          "base_uri": "https://localhost:8080/"
        },
        "id": "y0SOUd2Rt3ff",
        "outputId": "b26762a8-efdd-4788-c2a4-30692674ac2a"
      },
      "execution_count": null,
      "outputs": [
        {
          "output_type": "stream",
          "name": "stdout",
          "text": [
            "Collecting awscli\n",
            "  Downloading awscli-1.36.12-py3-none-any.whl.metadata (11 kB)\n",
            "Requirement already satisfied: botocore==1.35.71 in /usr/local/lib/python3.10/dist-packages (from awscli) (1.35.71)\n",
            "Collecting docutils<0.17,>=0.10 (from awscli)\n",
            "  Downloading docutils-0.16-py2.py3-none-any.whl.metadata (2.7 kB)\n",
            "Requirement already satisfied: s3transfer<0.11.0,>=0.10.0 in /usr/local/lib/python3.10/dist-packages (from awscli) (0.10.4)\n",
            "Requirement already satisfied: PyYAML<6.1,>=3.10 in /usr/local/lib/python3.10/dist-packages (from awscli) (6.0.2)\n",
            "Collecting colorama<0.4.7,>=0.2.5 (from awscli)\n",
            "  Downloading colorama-0.4.6-py2.py3-none-any.whl.metadata (17 kB)\n",
            "Collecting rsa<4.8,>=3.1.2 (from awscli)\n",
            "  Downloading rsa-4.7.2-py3-none-any.whl.metadata (3.6 kB)\n",
            "Requirement already satisfied: jmespath<2.0.0,>=0.7.1 in /usr/local/lib/python3.10/dist-packages (from botocore==1.35.71->awscli) (1.0.1)\n",
            "Requirement already satisfied: python-dateutil<3.0.0,>=2.1 in /usr/local/lib/python3.10/dist-packages (from botocore==1.35.71->awscli) (2.8.2)\n",
            "Requirement already satisfied: urllib3!=2.2.0,<3,>=1.25.4 in /usr/local/lib/python3.10/dist-packages (from botocore==1.35.71->awscli) (2.2.3)\n",
            "Requirement already satisfied: pyasn1>=0.1.3 in /usr/local/lib/python3.10/dist-packages (from rsa<4.8,>=3.1.2->awscli) (0.6.1)\n",
            "Requirement already satisfied: six>=1.5 in /usr/local/lib/python3.10/dist-packages (from python-dateutil<3.0.0,>=2.1->botocore==1.35.71->awscli) (1.16.0)\n",
            "Downloading awscli-1.36.12-py3-none-any.whl (4.5 MB)\n",
            "\u001b[2K   \u001b[90m━━━━━━━━━━━━━━━━━━━━━━━━━━━━━━━━━━━━━━━━\u001b[0m \u001b[32m4.5/4.5 MB\u001b[0m \u001b[31m49.8 MB/s\u001b[0m eta \u001b[36m0:00:00\u001b[0m\n",
            "\u001b[?25hDownloading colorama-0.4.6-py2.py3-none-any.whl (25 kB)\n",
            "Downloading docutils-0.16-py2.py3-none-any.whl (548 kB)\n",
            "\u001b[2K   \u001b[90m━━━━━━━━━━━━━━━━━━━━━━━━━━━━━━━━━━━━━━━━\u001b[0m \u001b[32m548.2/548.2 kB\u001b[0m \u001b[31m33.0 MB/s\u001b[0m eta \u001b[36m0:00:00\u001b[0m\n",
            "\u001b[?25hDownloading rsa-4.7.2-py3-none-any.whl (34 kB)\n",
            "Installing collected packages: rsa, docutils, colorama, awscli\n",
            "  Attempting uninstall: rsa\n",
            "    Found existing installation: rsa 4.9\n",
            "    Uninstalling rsa-4.9:\n",
            "      Successfully uninstalled rsa-4.9\n",
            "  Attempting uninstall: docutils\n",
            "    Found existing installation: docutils 0.21.2\n",
            "    Uninstalling docutils-0.21.2:\n",
            "      Successfully uninstalled docutils-0.21.2\n",
            "\u001b[31mERROR: pip's dependency resolver does not currently take into account all the packages that are installed. This behaviour is the source of the following dependency conflicts.\n",
            "sphinx 8.1.3 requires docutils<0.22,>=0.20, but you have docutils 0.16 which is incompatible.\u001b[0m\u001b[31m\n",
            "\u001b[0mSuccessfully installed awscli-1.36.12 colorama-0.4.6 docutils-0.16 rsa-4.7.2\n"
          ]
        }
      ]
    },
    {
      "cell_type": "code",
      "source": [
        "import requests\n",
        "import json\n",
        "import logging\n",
        "\n",
        "# Konfigurasi Cloudflare API\n",
        "CLOUDFLARE_API_TOKEN = \"4NwO0UP_T0aVtS8XzzkJnePwpRTtZtphkfJkLfLK\"\n",
        "CLOUDFLARE_ZONE_ID = \"e430952b40683784f19e1d3e0bc16566\"\n",
        "DNS_RECORD_NAME = \"laboratoriumweb.id\"  # Nama DNS yang ingin di-update\n",
        "\n",
        "# Konfigurasi Logging\n",
        "LOG_FILE = \"dns_update.log\"\n",
        "logging.basicConfig(\n",
        "    filename=LOG_FILE,\n",
        "    level=logging.INFO,\n",
        "    format=\"%(asctime)s - %(levelname)s - %(message)s\",\n",
        "    datefmt=\"%Y-%m-%d %H:%M:%S\",\n",
        ")\n",
        "\n",
        "# Fungsi untuk mendapatkan IP publik\n",
        "def get_public_ip():\n",
        "    try:\n",
        "        response = requests.get(\"https://api.ipify.org?format=json\")\n",
        "        response.raise_for_status()\n",
        "        return response.json()[\"ip\"]\n",
        "    except Exception as e:\n",
        "        logging.error(f\"Gagal mendapatkan IP publik: {e}\")\n",
        "        return None\n",
        "\n",
        "# Fungsi untuk mendapatkan detail DNS record\n",
        "def get_dns_record():\n",
        "    headers = {\"Authorization\": f\"Bearer {CLOUDFLARE_API_TOKEN}\"}\n",
        "    url = f\"https://api.cloudflare.com/client/v4/zones/{CLOUDFLARE_ZONE_ID}/dns_records?name={DNS_RECORD_NAME}\"\n",
        "    response = requests.get(url, headers=headers)\n",
        "    if response.status_code == 200:\n",
        "        records = response.json()[\"result\"]\n",
        "        return records[0] if records else None\n",
        "    else:\n",
        "        logging.error(f\"Error mendapatkan DNS record: {response.status_code} - {response.text}\")\n",
        "        return None\n",
        "\n",
        "# Fungsi untuk memperbarui DNS record\n",
        "def update_dns_record(record_id, ip):\n",
        "    headers = {\n",
        "        \"Authorization\": f\"Bearer {CLOUDFLARE_API_TOKEN}\",\n",
        "        \"Content-Type\": \"application/json\",\n",
        "    }\n",
        "    url = f\"https://api.cloudflare.com/client/v4/zones/{CLOUDFLARE_ZONE_ID}/dns_records/{record_id}\"\n",
        "    data = {\n",
        "        \"type\": \"A\",  # Tipe record, sesuaikan jika menggunakan IPv6 (\"AAAA\")\n",
        "        \"name\": DNS_RECORD_NAME,\n",
        "        \"content\": ip,\n",
        "        \"ttl\": 1,  # TTL 1 artinya auto\n",
        "        \"proxied\": True,  # Set True jika menggunakan Cloudflare proxy\n",
        "    }\n",
        "    response = requests.put(url, headers=headers, json=data)\n",
        "    if response.status_code == 200:\n",
        "        logging.info(f\"DNS record diperbarui ke IP: {ip}\")\n",
        "        print(\"DNS record berhasil diperbarui.\")\n",
        "    else:\n",
        "        logging.error(f\"Error memperbarui DNS record: {response.status_code} - {response.text}\")\n",
        "        print(f\"Error memperbarui DNS record: {response.status_code} - {response.text}\")\n",
        "\n",
        "# Main script\n",
        "def main():\n",
        "    current_ip = get_public_ip()\n",
        "    if not current_ip:\n",
        "        print(\"Tidak dapat melanjutkan tanpa IP publik.\")\n",
        "        return\n",
        "\n",
        "    print(f\"IP publik saat ini: {current_ip}\")\n",
        "\n",
        "    dns_record = get_dns_record()\n",
        "    if dns_record:\n",
        "        record_id = dns_record[\"id\"]\n",
        "        current_dns_ip = dns_record[\"content\"]\n",
        "        if current_dns_ip != current_ip:\n",
        "            logging.info(f\"IP berubah dari {current_dns_ip} ke {current_ip}. Memperbarui DNS record.\")\n",
        "            print(f\"IP berbeda. Memperbarui dari {current_dns_ip} ke {current_ip}.\")\n",
        "            update_dns_record(record_id, current_ip)\n",
        "        else:\n",
        "            logging.info(\"IP sudah sesuai. Tidak ada pembaruan yang diperlukan.\")\n",
        "            print(\"IP sudah sesuai. Tidak perlu pembaruan.\")\n",
        "    else:\n",
        "        logging.error(\"DNS record tidak ditemukan.\")\n",
        "        print(\"DNS record tidak ditemukan.\")\n",
        "\n",
        "if __name__ == \"__main__\":\n",
        "    main()"
      ],
      "metadata": {
        "colab": {
          "base_uri": "https://localhost:8080/"
        },
        "id": "eiubWHOinh--",
        "outputId": "996d06d8-e7c6-4db8-cba5-d3ae91bc0553"
      },
      "execution_count": null,
      "outputs": [
        {
          "output_type": "stream",
          "name": "stdout",
          "text": [
            "IP publik saat ini: 34.16.190.190\n",
            "IP berbeda. Memperbarui dari 34.13.133.143 ke 34.16.190.190.\n",
            "DNS record berhasil diperbarui.\n"
          ]
        }
      ]
    }
  ]
}